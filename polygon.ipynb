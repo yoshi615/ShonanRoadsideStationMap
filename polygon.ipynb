{
 "cells": [
  {
   "cell_type": "code",
   "execution_count": 1,
   "id": "0ce7ba38",
   "metadata": {},
   "outputs": [],
   "source": [
    "import json\n",
    "import math\n",
    "\n",
    "# 原点の緯度・経度（GLBの原点位置）\n",
    "origin_lat = 35.857247617004774\n",
    "origin_lon = 140.02277916986293\n",
    "\n",
    "# ローカル座標（立方体の中心）仮定\n",
    "local_x = 1.141\n",
    "local_y = 0.0038\n",
    "local_z = -0.653\n",
    "\n",
    "# 緯度・経度1度あたりのメートル換算（簡易モデル）\n",
    "meters_per_deg_lat = 111320\n",
    "meters_per_deg_lon = 40075000 * math.cos(math.radians(origin_lat)) / 360\n",
    "\n",
    "# 座標変換\n",
    "delta_lat = local_y / meters_per_deg_lat\n",
    "delta_lon = local_x / meters_per_deg_lon\n",
    "\n",
    "lat = origin_lat + delta_lat\n",
    "lon = origin_lon + delta_lon\n",
    "alt = local_z\n",
    "\n",
    "# GeoJSON作成\n",
    "geojson = {\n",
    "    \"type\": \"FeatureCollection\",\n",
    "    \"features\": [\n",
    "        {\n",
    "            \"type\": \"Feature\",\n",
    "            \"geometry\": {\n",
    "                \"type\": \"Point\",\n",
    "                \"coordinates\": [lon, lat, alt]\n",
    "            },\n",
    "            \"properties\": {\n",
    "                \"name\": \"立方体\"\n",
    "            }\n",
    "        }\n",
    "    ]\n",
    "}\n",
    "\n",
    "# ファイルに保存\n",
    "with open(\"teganuma_converted.geojson\", \"w\", encoding=\"utf-8\") as f:\n",
    "    json.dump(geojson, f, ensure_ascii=False, indent=2)\n"
   ]
  }
 ],
 "metadata": {
  "kernelspec": {
   "display_name": "base",
   "language": "python",
   "name": "python3"
  },
  "language_info": {
   "codemirror_mode": {
    "name": "ipython",
    "version": 3
   },
   "file_extension": ".py",
   "mimetype": "text/x-python",
   "name": "python",
   "nbconvert_exporter": "python",
   "pygments_lexer": "ipython3",
   "version": "3.11.7"
  }
 },
 "nbformat": 4,
 "nbformat_minor": 5
}
